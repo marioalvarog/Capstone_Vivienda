{
 "cells": [
  {
   "cell_type": "markdown",
   "metadata": {},
   "source": [
    "### Series temporales: ARIMAX"
   ]
  },
  {
   "cell_type": "code",
   "execution_count": 78,
   "metadata": {},
   "outputs": [],
   "source": [
    "# Importamos librerías a usar\n",
    "import warnings\n",
    "warnings.simplefilter('ignore')\n",
    "import pandas as pd\n",
    "import numpy as np\n",
    "import matplotlib.pyplot as plt\n",
    "\n",
    "from sklearn.model_selection import train_test_split\n",
    "from sklearn.metrics import mean_squared_error, mean_absolute_error\n",
    "from sklearn.preprocessing import StandardScaler\n",
    "import statsmodels.api as sm\n",
    "from datetime import datetime\n"
   ]
  },
  {
   "cell_type": "markdown",
   "metadata": {},
   "source": [
    "#### 1. Predicción precio ventas"
   ]
  },
  {
   "cell_type": "markdown",
   "metadata": {},
   "source": [
    "En esta primera predicción, trataremos de predecir el precio del m2 en Madrid del próximo mes en base al histórico de precio por m2, renta media de madrid y valor del euribor."
   ]
  },
  {
   "cell_type": "markdown",
   "metadata": {},
   "source": [
    "- Lo primero, vamos a leer nuestros csv: \n",
    "    - Mensualmente, los precios del m2 en venta en la ciudad de madrid. Este será el dato que queremos predecir. Por otro lado, nuestros valores exógenos serán la renta media y la variación del euribor porque, tras el análisis exploratorio, consideramos que son las variables que más pueden influenciar."
   ]
  },
  {
   "cell_type": "code",
   "execution_count": 79,
   "metadata": {},
   "outputs": [],
   "source": [
    "df_ventas = pd.read_csv('tablas/ventas_01_23.csv')\n",
    "df_euribor = pd.read_csv('tablas/euribor_94_23.csv')\n",
    "df_renta = pd.read_csv('tablas/renta_02_22.csv')"
   ]
  },
  {
   "cell_type": "markdown",
   "metadata": {},
   "source": [
    "- Ahora crearemos nuestro dataframe completo, con los valores unidos del resto de dataframes renombrando las columnas para hacerlas identificables y creando una columna 'date'"
   ]
  },
  {
   "cell_type": "code",
   "execution_count": 80,
   "metadata": {},
   "outputs": [
    {
     "data": {
      "text/html": [
       "<div>\n",
       "<style scoped>\n",
       "    .dataframe tbody tr th:only-of-type {\n",
       "        vertical-align: middle;\n",
       "    }\n",
       "\n",
       "    .dataframe tbody tr th {\n",
       "        vertical-align: top;\n",
       "    }\n",
       "\n",
       "    .dataframe thead th {\n",
       "        text-align: right;\n",
       "    }\n",
       "</style>\n",
       "<table border=\"1\" class=\"dataframe\">\n",
       "  <thead>\n",
       "    <tr style=\"text-align: right;\">\n",
       "      <th></th>\n",
       "      <th>date</th>\n",
       "      <th>precio_m2_venta</th>\n",
       "      <th>euribor</th>\n",
       "      <th>renta_media</th>\n",
       "    </tr>\n",
       "  </thead>\n",
       "  <tbody>\n",
       "    <tr>\n",
       "      <th>0</th>\n",
       "      <td>2023-06</td>\n",
       "      <td>4015</td>\n",
       "      <td>4.0073</td>\n",
       "      <td>NaN</td>\n",
       "    </tr>\n",
       "    <tr>\n",
       "      <th>1</th>\n",
       "      <td>2023-05</td>\n",
       "      <td>3979</td>\n",
       "      <td>3.8618</td>\n",
       "      <td>NaN</td>\n",
       "    </tr>\n",
       "    <tr>\n",
       "      <th>2</th>\n",
       "      <td>2023-04</td>\n",
       "      <td>3977</td>\n",
       "      <td>3.7437</td>\n",
       "      <td>NaN</td>\n",
       "    </tr>\n",
       "    <tr>\n",
       "      <th>3</th>\n",
       "      <td>2023-03</td>\n",
       "      <td>3935</td>\n",
       "      <td>3.6466</td>\n",
       "      <td>NaN</td>\n",
       "    </tr>\n",
       "    <tr>\n",
       "      <th>4</th>\n",
       "      <td>2023-02</td>\n",
       "      <td>3900</td>\n",
       "      <td>3.5336</td>\n",
       "      <td>NaN</td>\n",
       "    </tr>\n",
       "    <tr>\n",
       "      <th>5</th>\n",
       "      <td>2023-01</td>\n",
       "      <td>3870</td>\n",
       "      <td>3.3370</td>\n",
       "      <td>24797.0</td>\n",
       "    </tr>\n",
       "    <tr>\n",
       "      <th>6</th>\n",
       "      <td>2022-12</td>\n",
       "      <td>3881</td>\n",
       "      <td>3.0181</td>\n",
       "      <td>NaN</td>\n",
       "    </tr>\n",
       "    <tr>\n",
       "      <th>7</th>\n",
       "      <td>2022-11</td>\n",
       "      <td>3916</td>\n",
       "      <td>2.8283</td>\n",
       "      <td>NaN</td>\n",
       "    </tr>\n",
       "    <tr>\n",
       "      <th>8</th>\n",
       "      <td>2022-10</td>\n",
       "      <td>3916</td>\n",
       "      <td>2.6294</td>\n",
       "      <td>NaN</td>\n",
       "    </tr>\n",
       "    <tr>\n",
       "      <th>9</th>\n",
       "      <td>2022-09</td>\n",
       "      <td>3912</td>\n",
       "      <td>2.2330</td>\n",
       "      <td>NaN</td>\n",
       "    </tr>\n",
       "    <tr>\n",
       "      <th>10</th>\n",
       "      <td>2022-08</td>\n",
       "      <td>3893</td>\n",
       "      <td>1.2495</td>\n",
       "      <td>NaN</td>\n",
       "    </tr>\n",
       "    <tr>\n",
       "      <th>11</th>\n",
       "      <td>2022-07</td>\n",
       "      <td>3852</td>\n",
       "      <td>0.9915</td>\n",
       "      <td>NaN</td>\n",
       "    </tr>\n",
       "  </tbody>\n",
       "</table>\n",
       "</div>"
      ],
      "text/plain": [
       "       date  precio_m2_venta  euribor  renta_media\n",
       "0   2023-06             4015   4.0073          NaN\n",
       "1   2023-05             3979   3.8618          NaN\n",
       "2   2023-04             3977   3.7437          NaN\n",
       "3   2023-03             3935   3.6466          NaN\n",
       "4   2023-02             3900   3.5336          NaN\n",
       "5   2023-01             3870   3.3370      24797.0\n",
       "6   2022-12             3881   3.0181          NaN\n",
       "7   2022-11             3916   2.8283          NaN\n",
       "8   2022-10             3916   2.6294          NaN\n",
       "9   2022-09             3912   2.2330          NaN\n",
       "10  2022-08             3893   1.2495          NaN\n",
       "11  2022-07             3852   0.9915          NaN"
      ]
     },
     "execution_count": 80,
     "metadata": {},
     "output_type": "execute_result"
    }
   ],
   "source": [
    "#Lo primero, seleccionados solo madrid, solo el precio de venta y la fecha y lo convertimos a año y mes\n",
    "condicion = df_ventas['distrito'] == 'madrid'\n",
    "df_ventas_ag = df_ventas[condicion]\n",
    "df_ventas_ag2=df_ventas_ag[['date', 'precio_m2']]\n",
    "df_ventas_ag2.rename(columns={'precio_m2':'precio_m2_venta'}, inplace=True)\n",
    "df_ventas_ag2['date'] = pd.to_datetime(df_ventas_ag2['date']).dt.to_period('M')\n",
    "\n",
    "condicion2 = df_renta['distrito'] == 'madrid'\n",
    "df_renta_ag = df_renta[condicion2]\n",
    "df_renta_ag2 = df_renta_ag[['date', 'valor']]\n",
    "df_renta_ag2.rename(columns={'valor':'renta_media'}, inplace=True)\n",
    "df_renta_ag2['date'] = pd.to_datetime(df_renta_ag2['date']).dt.to_period('M')\n",
    "\n",
    "#Después seleccionamos date y el valor del euribor y realizamos las mismas operaciones\n",
    "df_euribor2 = df_euribor[['date', 'valor']]\n",
    "df_euribor2['date'] = pd.to_datetime(df_euribor2['date']).dt.to_period('M')\n",
    "df_euribor2.rename(columns={'valor':'euribor'}, inplace=True)\n",
    "\n",
    "#Por último, hacemos un inner joins por las fechas\n",
    "df_completo = df_ventas_ag2.merge(df_euribor2, on='date', how='inner')\n",
    "df_completo = df_completo.merge(df_renta_ag2, on='date', how='left')\n",
    "df_completo.head(12)"
   ]
  },
  {
   "cell_type": "markdown",
   "metadata": {},
   "source": [
    "- Como vemos, solo tenemos datos de renta media por año y nos rellena con NaNs los valores de los meses intermedios. Vamos a solucionarlo con un interpolate."
   ]
  },
  {
   "cell_type": "code",
   "execution_count": 81,
   "metadata": {},
   "outputs": [
    {
     "data": {
      "text/html": [
       "<div>\n",
       "<style scoped>\n",
       "    .dataframe tbody tr th:only-of-type {\n",
       "        vertical-align: middle;\n",
       "    }\n",
       "\n",
       "    .dataframe tbody tr th {\n",
       "        vertical-align: top;\n",
       "    }\n",
       "\n",
       "    .dataframe thead th {\n",
       "        text-align: right;\n",
       "    }\n",
       "</style>\n",
       "<table border=\"1\" class=\"dataframe\">\n",
       "  <thead>\n",
       "    <tr style=\"text-align: right;\">\n",
       "      <th></th>\n",
       "      <th>date</th>\n",
       "      <th>precio_m2_venta</th>\n",
       "      <th>euribor</th>\n",
       "      <th>renta_media</th>\n",
       "    </tr>\n",
       "  </thead>\n",
       "  <tbody>\n",
       "    <tr>\n",
       "      <th>0</th>\n",
       "      <td>2023-06</td>\n",
       "      <td>4015</td>\n",
       "      <td>4.0073</td>\n",
       "      <td>24797</td>\n",
       "    </tr>\n",
       "    <tr>\n",
       "      <th>1</th>\n",
       "      <td>2023-05</td>\n",
       "      <td>3979</td>\n",
       "      <td>3.8618</td>\n",
       "      <td>24797</td>\n",
       "    </tr>\n",
       "    <tr>\n",
       "      <th>2</th>\n",
       "      <td>2023-04</td>\n",
       "      <td>3977</td>\n",
       "      <td>3.7437</td>\n",
       "      <td>24797</td>\n",
       "    </tr>\n",
       "    <tr>\n",
       "      <th>3</th>\n",
       "      <td>2023-03</td>\n",
       "      <td>3935</td>\n",
       "      <td>3.6466</td>\n",
       "      <td>24797</td>\n",
       "    </tr>\n",
       "    <tr>\n",
       "      <th>4</th>\n",
       "      <td>2023-02</td>\n",
       "      <td>3900</td>\n",
       "      <td>3.5336</td>\n",
       "      <td>24797</td>\n",
       "    </tr>\n",
       "    <tr>\n",
       "      <th>5</th>\n",
       "      <td>2023-01</td>\n",
       "      <td>3870</td>\n",
       "      <td>3.3370</td>\n",
       "      <td>24797</td>\n",
       "    </tr>\n",
       "    <tr>\n",
       "      <th>6</th>\n",
       "      <td>2022-12</td>\n",
       "      <td>3881</td>\n",
       "      <td>3.0181</td>\n",
       "      <td>24764</td>\n",
       "    </tr>\n",
       "    <tr>\n",
       "      <th>7</th>\n",
       "      <td>2022-11</td>\n",
       "      <td>3916</td>\n",
       "      <td>2.8283</td>\n",
       "      <td>24732</td>\n",
       "    </tr>\n",
       "    <tr>\n",
       "      <th>8</th>\n",
       "      <td>2022-10</td>\n",
       "      <td>3916</td>\n",
       "      <td>2.6294</td>\n",
       "      <td>24699</td>\n",
       "    </tr>\n",
       "    <tr>\n",
       "      <th>9</th>\n",
       "      <td>2022-09</td>\n",
       "      <td>3912</td>\n",
       "      <td>2.2330</td>\n",
       "      <td>24666</td>\n",
       "    </tr>\n",
       "    <tr>\n",
       "      <th>10</th>\n",
       "      <td>2022-08</td>\n",
       "      <td>3893</td>\n",
       "      <td>1.2495</td>\n",
       "      <td>24634</td>\n",
       "    </tr>\n",
       "    <tr>\n",
       "      <th>11</th>\n",
       "      <td>2022-07</td>\n",
       "      <td>3852</td>\n",
       "      <td>0.9915</td>\n",
       "      <td>24601</td>\n",
       "    </tr>\n",
       "  </tbody>\n",
       "</table>\n",
       "</div>"
      ],
      "text/plain": [
       "       date  precio_m2_venta  euribor  renta_media\n",
       "0   2023-06             4015   4.0073        24797\n",
       "1   2023-05             3979   3.8618        24797\n",
       "2   2023-04             3977   3.7437        24797\n",
       "3   2023-03             3935   3.6466        24797\n",
       "4   2023-02             3900   3.5336        24797\n",
       "5   2023-01             3870   3.3370        24797\n",
       "6   2022-12             3881   3.0181        24764\n",
       "7   2022-11             3916   2.8283        24732\n",
       "8   2022-10             3916   2.6294        24699\n",
       "9   2022-09             3912   2.2330        24666\n",
       "10  2022-08             3893   1.2495        24634\n",
       "11  2022-07             3852   0.9915        24601"
      ]
     },
     "execution_count": 81,
     "metadata": {},
     "output_type": "execute_result"
    }
   ],
   "source": [
    "df_completo['renta_media'].interpolate(method='linear', inplace=True, limit_direction='both')\n",
    "\n",
    "# Redondear los valores resultantes a enteros\n",
    "df_completo['renta_media'] = df_completo['renta_media'].round().astype(int)\n",
    "df_completo.head(12)"
   ]
  },
  {
   "cell_type": "markdown",
   "metadata": {},
   "source": [
    "- Ahora vamos a hacer la prueba de un modelo ARIMAX. ARIMAX es un acrónimo de \"AutoRegressive Integrated Moving Average\":\n",
    "\n",
    "    - AutoRegressive (AR): Es decir, que el valor actual de la serie de datos depende de sus valores anteriores. Lo que ha pasado antes influye en el presente.\n",
    "\n",
    "    - Integrated (I): 'Integrada' implica que se realiza una diferencia entre los datos observados y los anteriores para hacer que la serie sea más estacionaria, es decir, que sus propiedades estadísticas no cambian con el tiempo para facilitar la predicción.\n",
    "\n",
    "    - Moving Average (MA): 'Media móvil. Es decir, calcular la media de un conjunto de valores de forma consecutiva, para suavizar los datos y eliminar el ruido o la aleatoriedad, que permite detectar mejor las tendencias. \n",
    "\n",
    "    -Componente Exógeno (X): Incorporando variables exógenas podemos capturar relaciones con factores externos que pueden afectar a la serie temporal."
   ]
  },
  {
   "cell_type": "markdown",
   "metadata": {},
   "source": [
    "- - - - - - - - - - - - - - - - - - - - - - - - - - - - - - - - - - - - - - - - - - - - - - - - - - - - - - - - -"
   ]
  },
  {
   "cell_type": "markdown",
   "metadata": {},
   "source": [
    "Comenzamos :\n",
    "- Convertimos la columna 'date' a datetime con timestamp, un modelo de representación de marca de tiempo en milisegundos que permite cálculos más avanzados.\n",
    "- Luego convertimos 'date' en el índice, lo que es útil para trabajar con series temporales.\n",
    "- Por último ordenamos el index de forma cronológica."
   ]
  },
  {
   "cell_type": "code",
   "execution_count": 82,
   "metadata": {},
   "outputs": [],
   "source": [
    "df_completo['date'] = pd.to_datetime(df_completo['date'].dt.to_timestamp())\n",
    "df_completo = df_completo.set_index('date')\n",
    "df_completo = df_completo.sort_index()"
   ]
  },
  {
   "cell_type": "markdown",
   "metadata": {},
   "source": [
    "Continuamos:\n",
    "- Vamos a crear una variable llamada 'serie_temporal', extrayendo la columna 'precio_m2', que será nuestro objetivo. Nuestra Y, si queremos llamarla así. Es sobre la que aplicaremos el modelo ARIMAX para realizar las predicciones.\n",
    "\n",
    "Ahora, aunque vamos a trabajar con fechas que ya conocemos, queremos ser capaces de intentar predecir un mes o meses para los que aún no tenemos datos. Para ello haremos lo siguiente:\n",
    "\n",
    "- Con un .reindex (método que podemos usar para incorporar o cambiar los valores del index) y un date_range, vamos a añadir 3 filas más, correspondientes a los meses de julio, agosto y septiembre -07, 08, 09-. Estas filas van a rellenar sus columnas (en este caso, su única columna, precio_m2) con NaNs en caso de que no haya valores que le correspondan. \n",
    "- Por último, vamos a usar una interpolación para rellenar esos NaNs con sus valores intermedios. en este caso, el valor intermedio no existe ya que no tenemos el valor del precio_m2 de octubre para poder rellenar, así que lo que hará será rellenar con el último valor conocido."
   ]
  },
  {
   "cell_type": "code",
   "execution_count": 83,
   "metadata": {},
   "outputs": [
    {
     "data": {
      "text/plain": [
       "2001-01-01    1542.0\n",
       "2001-02-01    1542.0\n",
       "2001-03-01    1542.0\n",
       "2001-04-01    1592.0\n",
       "2001-05-01    1592.0\n",
       "               ...  \n",
       "2023-05-01    3979.0\n",
       "2023-06-01    4015.0\n",
       "2023-07-01    4015.0\n",
       "2023-08-01    4015.0\n",
       "2023-09-01    4015.0\n",
       "Freq: MS, Name: precio_m2_venta, Length: 273, dtype: float64"
      ]
     },
     "execution_count": 83,
     "metadata": {},
     "output_type": "execute_result"
    }
   ],
   "source": [
    "serie_temporal = df_completo['precio_m2_venta']\n",
    "extended_serie_temporal = serie_temporal.reindex(serie_temporal.index.union(pd.date_range('2023-07-01', '2023-09-01', freq='MS')))\n",
    "extended_serie_temporal.interpolate(method='linear', inplace=True)\n",
    "extended_serie_temporal"
   ]
  },
  {
   "cell_type": "markdown",
   "metadata": {},
   "source": [
    "- Ahora crearemos las dos variables exógenas, el euribor y la renta media.\n",
    "- Incorporaremos de nuevo estas nuevas filas de fecha para los meses que aún no tenemos."
   ]
  },
  {
   "cell_type": "code",
   "execution_count": 84,
   "metadata": {},
   "outputs": [],
   "source": [
    "euribor = df_completo['euribor']\n",
    "extended_euribor = euribor.reindex(serie_temporal.index.union(pd.date_range('2023-07-01', '2023-09-01', freq='MS')))\n",
    "extended_euribor.interpolate(method='linear', inplace=True)"
   ]
  },
  {
   "cell_type": "code",
   "execution_count": 85,
   "metadata": {},
   "outputs": [],
   "source": [
    "renta = df_completo['renta_media']\n",
    "extended_renta = renta.reindex(serie_temporal.index.union(pd.date_range('2023-07-01', '2023-09-01', freq='MS')))\n",
    "extended_renta.interpolate(method='linear', inplace=True)"
   ]
  },
  {
   "cell_type": "markdown",
   "metadata": {},
   "source": [
    "Ahora:\n",
    "- Dividimos en train y test, dándole al train los datos hasta mayo de 2023, y dejando como objetivo junio de 2023. Lo entrenaremos con datos históricos para luego evaluar su rendimiento al predecir junio. Creamos también una variable exog_test, para tener los valores del euribor y la renta en junio e intentar predecir el valor en junio.\n",
    "- Incluimos una variable exógena con los exog_values del euribor y del alquiler para transformar nuestro ARIMA a ARIMAX\n",
    "- A continuación entrenamos el modelo ARIMA con los parámetros 'order' (1,0,0) que significa que tiene una parte auto-regresiva de orden 1 (es decir, que vamos a usar una regresión lineal teniendo en cuenta el valor inmediatamente anterior para hacer las predicciones), una integrada de orden 0 (no realiza diferenciaciones para hacer la serie estacionarios) y una parte de media móvil de orden 0 (No la hace). Tras muchos ensayos, es el que más nos convence. Incluímos los exog_values\n",
    "- Hacemos un fit para ajustarlo al conjunto de datos de entrenamiento."
   ]
  },
  {
   "cell_type": "code",
   "execution_count": 86,
   "metadata": {},
   "outputs": [],
   "source": [
    "\n",
    "train_start = '2008-01'\n",
    "train_end = '2023-05'\n",
    "objetivo = '2023-06'\n",
    "train = extended_serie_temporal[train_start:train_end]\n",
    "test = extended_serie_temporal[objetivo]\n",
    "\n",
    "exog_values = pd.concat([extended_euribor[train_start:train_end], extended_renta[train_start:train_end]], axis=1)\n",
    "exog_test = pd.concat([extended_euribor[objetivo], extended_renta[objetivo]], axis=1).values\n",
    "\n",
    "model = sm.tsa.ARIMA(train, order=(1, 0, 0), exog=exog_values)\n",
    "model_fit = model.fit()\n"
   ]
  },
  {
   "cell_type": "markdown",
   "metadata": {},
   "source": [
    "- Realizaremos la predicción para junio de 2023 con un único salto de mes (la len() del 'test'), y los valores exógenos de ese mes.\n",
    "\n",
    "- Acto seguido, vamos a crear un datetime de nuestra fecha objetivo (en este caso '2023-06'), para de ahi sacar el nombre del mes y el del año e imprimir la predicción junto con el valor del forecast."
   ]
  },
  {
   "cell_type": "code",
   "execution_count": 87,
   "metadata": {},
   "outputs": [
    {
     "name": "stdout",
     "output_type": "stream",
     "text": [
      "Predicción para June de 2023:\n",
      "3985.9\n"
     ]
    }
   ],
   "source": [
    "forecast = model_fit.forecast(steps=len(test), exog=exog_test)\n",
    "\n",
    "\n",
    "fecha = datetime.strptime(objetivo, '%Y-%m')\n",
    "nombre_mes = fecha.strftime('%B')\n",
    "anio = fecha.year\n",
    "\n",
    "cadena_final = f'{nombre_mes} de {anio}'\n",
    "print(f\"Predicción para {cadena_final}:\")\n",
    "print(forecast.iloc[0].round(1))  # Simplemente imprime el valor directamente\n"
   ]
  },
  {
   "cell_type": "markdown",
   "metadata": {},
   "source": [
    "- Ahora, crearemos un plot con la predicción del precio de venta por metro cuadrado, representando previamente la línea del precio real de venta por m2."
   ]
  },
  {
   "cell_type": "code",
   "execution_count": 88,
   "metadata": {},
   "outputs": [
    {
     "data": {
      "image/png": "[encoded data removed]",
      "text/plain": [
       "<Figure size 1000x600 with 1 Axes>"
      ]
     },
     "metadata": {},
     "output_type": "display_data"
    }
   ],
   "source": [
    "\n",
    "plt.figure(figsize=(10, 6))\n",
    "plt.plot(train, label='Entrenamiento')\n",
    "plt.plot(test.index[-1], forecast, marker='o', markersize=8, label='Predicción', color='red')  # Graficar solo el valor para septiembre de 2023\n",
    "plt.xlabel('Fecha')\n",
    "plt.ylabel('Precio por metro cuadrado')\n",
    "plt.title(f'Predicción del precio por metro cuadrado en venta para {cadena_final} en Madrid')\n",
    "plt.legend()\n",
    "plt.grid(True)\n",
    "plt.show()"
   ]
  },
  {
   "cell_type": "markdown",
   "metadata": {},
   "source": [
    "- Por último, vamos a comprobar la relación entre valor real y predicho:\n",
    "    - Extraemos el valor real de los valores de test, escogiendo el único valor del test para que salga en formato float\n",
    "    - Extraemos también la única fila del forecast con un .iloc.\n",
    "\n",
    "- Calculamos el error cuadrático medio y el error absoluto medio.\n",
    "- Calculamos la desviación estándar mes a mes para el precio de venta, sacando un dataframe con las diferencias de precio con respecto al mes previo y realizando un .std()\n",
    "\n",
    "Estos datos nos permitirán comprobar cuánto se acerca nuestra predicción al número real y si está por debajo de la desviación estándar. Redondearemos todos para facilitar la legibilidad."
   ]
  },
  {
   "cell_type": "code",
   "execution_count": null,
   "metadata": {},
   "outputs": [
    {
     "name": "stdout",
     "output_type": "stream",
     "text": [
      "Valor real de June de 2023: 4015.0\n",
      "Valor predicho para June de 2023: 3985.94\n",
      "Error Cuadrático Medio (MSE) para June de 2023: 844.48\n",
      "Error Absoluto Medio (MAE) para June de 2023: 29.06\n",
      "Desviación estándar de mes a mes en el precio por metro cuadrado en el rango de fechas: 33.85\n"
     ]
    }
   ],
   "source": [
    "y_true_june = test.values[-1].round(2)\n",
    "forecast_june = forecast.iloc[0].round(2)\n",
    "\n",
    "\n",
    "mse = mean_squared_error([y_true_june], [forecast_june]).round(2)\n",
    "\n",
    "\n",
    "mae = mean_absolute_error([y_true_june], [forecast_june]).round(2)\n",
    "\n",
    "\n",
    "diff_precios_m2 = train.diff()\n",
    "desviacion_estandar_fila_a_fila = diff_precios_m2.std().round(2)\n",
    "\n",
    "\n",
    "\n",
    "print(f\"Valor real de {cadena_final}:\", y_true_june)\n",
    "print(f\"Valor predicho para {cadena_final}:\", forecast_june)\n",
    "print(f\"Error Cuadrático Medio (MSE) para {cadena_final}:\", mse)\n",
    "print(f\"Error Absoluto Medio (MAE) para {cadena_final}:\", mae)\n",
    "print(\"Desviación estándar de mes a mes en el precio por metro cuadrado en el rango de fechas:\", desviacion_estandar_fila_a_fila)"
   ]
  },
  {
   "cell_type": "markdown",
   "metadata": {},
   "source": [
    "El Error Absoluto Medio indica la discrepancia promedio entre los valores reales y los valores predichos en un modelo. Al calcular la desviación estándar de las diferencias entre filas consecutivas, estamos evaluando cuánto varían los cambios en la serie temporal.\n",
    "\n",
    "Si el MAE se mantiene consistentemente por debajo de la desviación estándar, tendremos un buen modelo. Esto indica que las predicciones se encuentran en general más cerca de los valores reales y que la discrepancia entre ellos es menor."
   ]
  },
  {
   "cell_type": "markdown",
   "metadata": {},
   "source": [
    "------------------------------------------------------------------------------\n",
    "Para terminar de evaluar nuestro modelo, calcularemos el error absoluto y desviación estándar de los últimos 12 meses, cambiando el rango de fecha. Si está consistentemente por debajo de la desviación estándar, será un modelo fiable."
   ]
  },
  {
   "cell_type": "code",
   "execution_count": null,
   "metadata": {},
   "outputs": [
    {
     "name": "stdout",
     "output_type": "stream",
     "text": [
      "Valor real de June de 2023: 4015.0\n",
      "Valor predicho para June de 2023: 3985.94\n",
      "Error Absoluto Medio (MAE) para June de 2023: 29.06\n",
      "Desviación estándar de mes a mes en el precio por metro cuadrado en el rango de fechas: 33.85\n",
      "\n",
      "\n",
      "Valor real de May de 2023: 3979.0\n",
      "Valor predicho para May de 2023: 3982.75\n",
      "Error Absoluto Medio (MAE) para May de 2023: 3.75\n",
      "Desviación estándar de mes a mes en el precio por metro cuadrado en el rango de fechas: 33.94\n",
      "\n",
      "\n",
      "Valor real de April de 2023: 3977.0\n",
      "Valor predicho para April de 2023: 3939.76\n",
      "Error Absoluto Medio (MAE) para April de 2023: 37.24\n",
      "Desviación estándar de mes a mes en el precio por metro cuadrado en el rango de fechas: 33.89\n",
      "\n",
      "\n",
      "Valor real de March de 2023: 3935.0\n",
      "Valor predicho para March de 2023: 3903.6\n",
      "Error Absoluto Medio (MAE) para March de 2023: 31.4\n",
      "Desviación estándar de mes a mes en el precio por metro cuadrado en el rango de fechas: 33.88\n",
      "\n",
      "\n",
      "Valor real de February de 2023: 3900.0\n",
      "Valor predicho para February de 2023: 3878.46\n",
      "Error Absoluto Medio (MAE) para February de 2023: 21.54\n",
      "Desviación estándar de mes a mes en el precio por metro cuadrado en el rango de fechas: 33.89\n",
      "\n",
      "\n",
      "Valor real de January de 2023: 3870.0\n",
      "Valor predicho para January de 2023: 3902.31\n",
      "Error Absoluto Medio (MAE) para January de 2023: 32.31\n",
      "Desviación estándar de mes a mes en el precio por metro cuadrado en el rango de fechas: 33.98\n",
      "\n",
      "\n",
      "Valor real de December de 2022: 3881.0\n",
      "Valor predicho para December de 2022: 3932.92\n",
      "Error Absoluto Medio (MAE) para December de 2022: 51.92\n",
      "Desviación estándar de mes a mes en el precio por metro cuadrado en el rango de fechas: 33.98\n",
      "\n",
      "\n",
      "Valor real de November de 2022: 3916.0\n",
      "Valor predicho para November de 2022: 3933.84\n",
      "Error Absoluto Medio (MAE) para November de 2022: 17.84\n",
      "Desviación estándar de mes a mes en el precio por metro cuadrado en el rango de fechas: 34.07\n",
      "\n",
      "\n",
      "Valor real de October de 2022: 3916.0\n",
      "Valor predicho para October de 2022: 3939.29\n",
      "Error Absoluto Medio (MAE) para October de 2022: 23.29\n",
      "Desviación estándar de mes a mes en el precio por metro cuadrado en el rango de fechas: 34.17\n",
      "\n",
      "\n",
      "Valor real de September de 2022: 3912.0\n",
      "Valor predicho para September de 2022: 3955.06\n",
      "Error Absoluto Medio (MAE) para September de 2022: 43.06\n",
      "Desviación estándar de mes a mes en el precio por metro cuadrado en el rango de fechas: 34.23\n",
      "\n",
      "\n",
      "Valor real de August de 2022: 3893.0\n",
      "Valor predicho para August de 2022: 3874.98\n",
      "Error Absoluto Medio (MAE) para August de 2022: 18.02\n",
      "Desviación estándar de mes a mes en el precio por metro cuadrado en el rango de fechas: 34.18\n",
      "\n",
      "\n",
      "Valor real de July de 2022: 3852.0\n",
      "Valor predicho para July de 2022: 3837.64\n",
      "Error Absoluto Medio (MAE) para July de 2022: 14.36\n",
      "Desviación estándar de mes a mes en el precio por metro cuadrado en el rango de fechas: 34.2\n",
      "\n",
      "\n",
      "Valor real de June de 2022: 3821.0\n",
      "Valor predicho para June de 2022: 3833.59\n",
      "Error Absoluto Medio (MAE) para June de 2022: 12.59\n",
      "Desviación estándar de mes a mes en el precio por metro cuadrado en el rango de fechas: 34.23\n",
      "\n",
      "\n",
      "Media de los MAEs: 25.88\n",
      "Media de la desviación estándar mes a mes en el precio por metro cuadrado en el rango de fechas: 34.04\n"
     ]
    }
   ],
   "source": [
    "import pandas as pd\n",
    "import statsmodels.api as sm\n",
    "from datetime import datetime\n",
    "from sklearn.metrics import mean_absolute_error\n",
    "\n",
    "train_start = '2008-01'\n",
    "current_end = '2023-05'\n",
    "current_objetivo = '2023-06'\n",
    "mae_list = []\n",
    "std_dev_list = []\n",
    "\n",
    "while current_end >= '2022-05':\n",
    "    train = extended_serie_temporal[train_start:current_end]\n",
    "    test = extended_serie_temporal[current_objetivo]\n",
    "    exog_test = pd.concat([extended_euribor[current_objetivo], extended_renta[current_objetivo]], axis=1).values\n",
    "    exog_values = pd.concat([extended_euribor[train_start:current_end], extended_renta[train_start:current_end]], axis=1)\n",
    "    \n",
    "    model = sm.tsa.ARIMA(train, order=(1, 0, 0), exog=exog_values)\n",
    "    model_fit = model.fit()\n",
    "    forecast = model_fit.forecast(steps=len(test), exog=exog_test)\n",
    "    \n",
    "    fecha = datetime.strptime(current_objetivo, '%Y-%m')\n",
    "    nombre_mes = fecha.strftime('%B')\n",
    "    anio = fecha.year\n",
    "    cadena_final = f'{nombre_mes} de {anio}'\n",
    "    \n",
    "    y_true = test.values[-1].round(2)\n",
    "    forecast_june = forecast.iloc[0].round(2)\n",
    "    mae = mean_absolute_error([y_true], [forecast_june]).round(2)\n",
    "    diff_precios_m2 = train.diff()\n",
    "    desviacion_estandar_fila_a_fila = diff_precios_m2.std().round(2)\n",
    "    \n",
    "    mae_list.append(mae)\n",
    "    std_dev_list.append(desviacion_estandar_fila_a_fila)\n",
    "    \n",
    "    print(f\"Valor real de {cadena_final}: {y_true}\")\n",
    "    print(f\"Valor predicho para {cadena_final}: {forecast_june}\")\n",
    "    print(f\"Error Absoluto Medio (MAE) para {cadena_final}: {mae}\")\n",
    "    print(\"Desviación estándar de mes a mes en el precio por metro cuadrado en el rango de fechas:\", desviacion_estandar_fila_a_fila)\n",
    "    print(\"\\n\")\n",
    "    \n",
    "    # Actualizar los valores para la siguiente iteración\n",
    "    current_end = (datetime.strptime(current_end, '%Y-%m') - pd.DateOffset(months=1)).strftime('%Y-%m')\n",
    "    current_objetivo = (datetime.strptime(current_objetivo, '%Y-%m') - pd.DateOffset(months=1)).strftime('%Y-%m')\n",
    "\n",
    "mae_mean = (sum(mae_list) / len(mae_list)).round(2)\n",
    "std_dev_mean = (sum(std_dev_list) / len(std_dev_list)).round(2)\n",
    "print(f\"Media de los MAEs: {mae_mean}\")\n",
    "print(f\"Media de la desviación estándar mes a mes en el precio por metro cuadrado en el rango de fechas: {std_dev_mean}\")\n"
   ]
  },
  {
   "cell_type": "markdown",
   "metadata": {},
   "source": [
    "- Comprobamos que, efectivamente, la media de los MAEs de las predicciones de los últimos 12 meses es menor a la desviación estándar mes a mes del rango de fechas sometidos a estudio. \n",
    "- Concluimos que es un modelo que puede predecir, de forma más fiable que la pura estadística, el precio del próximo mes."
   ]
  },
  {
   "cell_type": "markdown",
   "metadata": {},
   "source": [
    "#### 2. Predicción precio alquiler"
   ]
  },
  {
   "cell_type": "markdown",
   "metadata": {},
   "source": [
    "- Teniendo ya un modelo exitoso, vamos a probar a predecir el precio del alquiler, esta vez teniendo en cuenta como variables exógenas la renta y el precio medio de venta por m2."
   ]
  },
  {
   "cell_type": "code",
   "execution_count": null,
   "metadata": {},
   "outputs": [],
   "source": [
    "df_alquiler = pd.read_csv('tablas/alquiler_12_23.csv')\n",
    "df_venta = pd.read_csv('tablas/ventas_01_23.csv')\n",
    "df_renta = pd.read_csv('tablas/renta_02_22.csv')"
   ]
  },
  {
   "cell_type": "code",
   "execution_count": null,
   "metadata": {},
   "outputs": [],
   "source": [
    "#Lo primero, seleccionados solo madrid, solo el precio de venta y la fecha y lo convertimos a año y mes\n",
    "condicion = df_alquiler['distrito'] == 'madrid'\n",
    "df_alquiler_ag = df_alquiler[condicion]\n",
    "df_alquiler_ag2=df_alquiler_ag[['date', 'precio_m2']]\n",
    "df_alquiler_ag2.rename(columns={'precio_m2':'precio_m2_alquiler'}, inplace=True)\n",
    "df_alquiler_ag2['date'] = pd.to_datetime(df_alquiler_ag2['date']).dt.to_period('M')\n",
    "\n",
    "condicion2 = df_renta['distrito'] == 'madrid'\n",
    "df_renta_ag = df_renta[condicion2]\n",
    "df_renta_ag2 = df_renta_ag[['date', 'valor']]\n",
    "df_renta_ag2.rename(columns={'valor':'renta_media'}, inplace=True)\n",
    "df_renta_ag2['date'] = pd.to_datetime(df_renta_ag2['date']).dt.to_period('M')\n",
    "\n",
    "#Después seleccionamos date y el valor del euribor y realizamos las mismas operaciones\n",
    "condicion3 = df_venta['distrito'] == 'madrid'\n",
    "df_venta = df_venta[condicion3]\n",
    "df_venta2 = df_venta[['date', 'precio_m2']]\n",
    "df_venta2['date'] = pd.to_datetime(df_venta2['date']).dt.to_period('M')\n",
    "df_venta2.rename(columns={'precio_m2':'precio_m2_venta'}, inplace=True)\n",
    "\n",
    "#Por último, hacemos un inner joins por las fechas\n",
    "df_completo = df_alquiler_ag2.merge(df_venta2, on='date', how='inner')\n",
    "df_completo = df_completo.merge(df_renta_ag2, on='date', how='left')\n",
    "df_completo['renta_media'].interpolate(method='linear', inplace=True, limit_direction='both')\n",
    "\n",
    "# Redondear los valores resultantes a enteros\n",
    "df_completo['renta_media'] = df_completo['renta_media'].round().astype(int)"
   ]
  },
  {
   "cell_type": "code",
   "execution_count": null,
   "metadata": {},
   "outputs": [],
   "source": [
    "df_completo['date'] = pd.to_datetime(df_completo['date'].dt.to_timestamp())\n",
    "df_completo = df_completo.set_index('date')\n",
    "df_completo = df_completo.sort_index()"
   ]
  },
  {
   "cell_type": "code",
   "execution_count": null,
   "metadata": {},
   "outputs": [
    {
     "data": {
      "text/plain": [
       "2012-03-01    12.0\n",
       "2012-04-01    11.9\n",
       "2012-05-01    11.9\n",
       "2012-06-01    11.9\n",
       "2012-07-01    11.8\n",
       "              ... \n",
       "2023-05-01    16.6\n",
       "2023-06-01    16.8\n",
       "2023-07-01    16.8\n",
       "2023-08-01    16.8\n",
       "2023-09-01    16.8\n",
       "Freq: MS, Name: precio_m2_alquiler, Length: 139, dtype: float64"
      ]
     },
     "execution_count": 58,
     "metadata": {},
     "output_type": "execute_result"
    }
   ],
   "source": [
    "serie_temporal = df_completo['precio_m2_alquiler']\n",
    "extended_serie_temporal = serie_temporal.reindex(serie_temporal.index.union(pd.date_range('2023-07-01', '2023-09-01', freq='MS')))\n",
    "extended_serie_temporal.interpolate(method='linear', inplace=True)\n",
    "extended_serie_temporal"
   ]
  },
  {
   "cell_type": "code",
   "execution_count": null,
   "metadata": {},
   "outputs": [],
   "source": [
    "venta_exog = df_completo['precio_m2_venta']\n",
    "extended_venta = venta_exog.reindex(serie_temporal.index.union(pd.date_range('2023-07-01', '2023-09-01', freq='MS')))\n",
    "extended_venta.interpolate(method='linear', inplace=True)"
   ]
  },
  {
   "cell_type": "code",
   "execution_count": null,
   "metadata": {},
   "outputs": [],
   "source": [
    "renta_exog = df_completo['renta_media']\n",
    "extended_renta = renta_exog.reindex(serie_temporal.index.union(pd.date_range('2023-07-01', '2023-09-01', freq='MS')))\n",
    "extended_renta.interpolate(method='linear', inplace=True)"
   ]
  },
  {
   "cell_type": "code",
   "execution_count": null,
   "metadata": {},
   "outputs": [],
   "source": [
    "\n",
    "train_start = '2008-01'\n",
    "train_end = '2023-05'\n",
    "objetivo = '2023-06'\n",
    "train = extended_serie_temporal[train_start:train_end]\n",
    "test = extended_serie_temporal[objetivo]\n",
    "exog_test = pd.concat([extended_venta[objetivo], extended_renta[objetivo]], axis=1).values\n",
    "\n",
    "exog_values = pd.concat([extended_venta[train_start:train_end], extended_renta[train_start:train_end]], axis=1)\n",
    "\n",
    "model = sm.tsa.ARIMA(train, order=(1, 1, 0), exog=exog_values)\n",
    "model_fit = model.fit()\n"
   ]
  },
  {
   "cell_type": "code",
   "execution_count": null,
   "metadata": {},
   "outputs": [
    {
     "name": "stdout",
     "output_type": "stream",
     "text": [
      "Predicción para June de 2023:\n",
      "16.8\n"
     ]
    }
   ],
   "source": [
    "forecast = model_fit.forecast(steps=len(test), exog=exog_test)\n",
    "\n",
    "\n",
    "fecha = datetime.strptime(objetivo, '%Y-%m')\n",
    "nombre_mes = fecha.strftime('%B')\n",
    "anio = fecha.year\n",
    "\n",
    "cadena_final = f'{nombre_mes} de {anio}'\n",
    "print(f\"Predicción para {cadena_final}:\")\n",
    "print(forecast.iloc[0].round(1))  # Simplemente imprime el valor directamente\n"
   ]
  },
  {
   "cell_type": "code",
   "execution_count": null,
   "metadata": {},
   "outputs": [
    {
     "data": {
      "image/png": "[encoded data removed]",
      "text/plain": [
       "<Figure size 1000x600 with 1 Axes>"
      ]
     },
     "metadata": {},
     "output_type": "display_data"
    }
   ],
   "source": [
    "\n",
    "plt.figure(figsize=(10, 6))\n",
    "plt.plot(train, label='Entrenamiento')\n",
    "plt.plot(test.index[-1], forecast, marker='o', markersize=8, label='Predicción', color='red')  # Graficar solo el valor para septiembre de 2023\n",
    "plt.xlabel('Fecha')\n",
    "plt.ylabel('Precio por metro cuadrado')\n",
    "plt.title(f'Predicción del precio por metro cuadrado en alquiler para {cadena_final} en Madrid')\n",
    "plt.legend()\n",
    "plt.grid(True)\n",
    "plt.show()"
   ]
  },
  {
   "cell_type": "code",
   "execution_count": null,
   "metadata": {},
   "outputs": [
    {
     "name": "stdout",
     "output_type": "stream",
     "text": [
      "Valor real de June de 2023: 16.8\n",
      "Valor predicho para June de 2023: 16.76\n",
      "Error Cuadrático Medio (MSE) para June de 2023: 0.0\n",
      "Error Absoluto Medio (MAE) para June de 2023: 0.04\n",
      "Desviación estándar de mes a mes en el precio por metro cuadrado en el rango de fechas: 0.13\n"
     ]
    }
   ],
   "source": [
    "y_true_june = test.values[-1].round(2)\n",
    "forecast_june = forecast.iloc[0].round(2)\n",
    "\n",
    "\n",
    "mse = mean_squared_error([y_true_june], [forecast_june]).round(2)\n",
    "\n",
    "\n",
    "mae = mean_absolute_error([y_true_june], [forecast_june]).round(2)\n",
    "\n",
    "\n",
    "diff_precios_m2 = train.diff()\n",
    "desviacion_estandar_fila_a_fila = diff_precios_m2.std().round(2)\n",
    "\n",
    "\n",
    "\n",
    "print(f\"Valor real de {cadena_final}:\", y_true_june)\n",
    "print(f\"Valor predicho para {cadena_final}:\", forecast_june)\n",
    "print(f\"Error Cuadrático Medio (MSE) para {cadena_final}:\", mse)\n",
    "print(f\"Error Absoluto Medio (MAE) para {cadena_final}:\", mae)\n",
    "print(\"Desviación estándar de mes a mes en el precio por metro cuadrado en el rango de fechas:\", desviacion_estandar_fila_a_fila)"
   ]
  },
  {
   "cell_type": "code",
   "execution_count": null,
   "metadata": {},
   "outputs": [
    {
     "name": "stdout",
     "output_type": "stream",
     "text": [
      "Valor real de June de 2023: 16.8\n",
      "Valor predicho para June de 2023: 16.76\n",
      "Error Absoluto Medio (MAE) para June de 2023: 0.04\n",
      "Desviación estándar de mes a mes en el precio por metro cuadrado en el rango de fechas: 0.13\n",
      "\n",
      "\n",
      "Valor real de May de 2023: 16.6\n",
      "Valor predicho para May de 2023: 16.45\n",
      "Error Absoluto Medio (MAE) para May de 2023: 0.15\n",
      "Desviación estándar de mes a mes en el precio por metro cuadrado en el rango de fechas: 0.13\n",
      "\n",
      "\n",
      "Valor real de April de 2023: 16.4\n",
      "Valor predicho para April de 2023: 16.26\n",
      "Error Absoluto Medio (MAE) para April de 2023: 0.14\n",
      "Desviación estándar de mes a mes en el precio por metro cuadrado en el rango de fechas: 0.13\n",
      "\n",
      "\n",
      "Valor real de March de 2023: 16.2\n",
      "Valor predicho para March de 2023: 16.34\n",
      "Error Absoluto Medio (MAE) para March de 2023: 0.14\n",
      "Desviación estándar de mes a mes en el precio por metro cuadrado en el rango de fechas: 0.13\n",
      "\n",
      "\n",
      "Valor real de February de 2023: 16.2\n",
      "Valor predicho para February de 2023: 16.15\n",
      "Error Absoluto Medio (MAE) para February de 2023: 0.05\n",
      "Desviación estándar de mes a mes en el precio por metro cuadrado en el rango de fechas: 0.13\n",
      "\n",
      "\n",
      "Valor real de January de 2023: 16.0\n",
      "Valor predicho para January de 2023: 15.81\n",
      "Error Absoluto Medio (MAE) para January de 2023: 0.19\n",
      "Desviación estándar de mes a mes en el precio por metro cuadrado en el rango de fechas: 0.13\n",
      "\n",
      "\n",
      "Valor real de December de 2022: 15.8\n",
      "Valor predicho para December de 2022: 15.69\n",
      "Error Absoluto Medio (MAE) para December de 2022: 0.11\n",
      "Desviación estándar de mes a mes en el precio por metro cuadrado en el rango de fechas: 0.13\n",
      "\n",
      "\n",
      "Valor real de November de 2022: 15.8\n",
      "Valor predicho para November de 2022: 15.92\n",
      "Error Absoluto Medio (MAE) para November de 2022: 0.12\n",
      "Desviación estándar de mes a mes en el precio por metro cuadrado en el rango de fechas: 0.13\n",
      "\n",
      "\n",
      "Valor real de October de 2022: 15.9\n",
      "Valor predicho para October de 2022: 16.0\n",
      "Error Absoluto Medio (MAE) para October de 2022: 0.1\n",
      "Desviación estándar de mes a mes en el precio por metro cuadrado en el rango de fechas: 0.13\n",
      "\n",
      "\n",
      "Valor real de September de 2022: 15.9\n",
      "Valor predicho para September de 2022: 15.81\n",
      "Error Absoluto Medio (MAE) para September de 2022: 0.09\n",
      "Desviación estándar de mes a mes en el precio por metro cuadrado en el rango de fechas: 0.13\n",
      "\n",
      "\n",
      "Valor real de August de 2022: 15.7\n",
      "Valor predicho para August de 2022: 15.7\n",
      "Error Absoluto Medio (MAE) para August de 2022: 0.0\n",
      "Desviación estándar de mes a mes en el precio por metro cuadrado en el rango de fechas: 0.13\n",
      "\n",
      "\n",
      "Valor real de July de 2022: 15.5\n",
      "Valor predicho para July de 2022: 15.33\n",
      "Error Absoluto Medio (MAE) para July de 2022: 0.17\n",
      "Desviación estándar de mes a mes en el precio por metro cuadrado en el rango de fechas: 0.12\n",
      "\n",
      "\n",
      "Valor real de June de 2022: 15.2\n",
      "Valor predicho para June de 2022: 15.09\n",
      "Error Absoluto Medio (MAE) para June de 2022: 0.11\n",
      "Desviación estándar de mes a mes en el precio por metro cuadrado en el rango de fechas: 0.12\n",
      "\n",
      "\n",
      "Media de los MAEs: 0.11\n",
      "Media de la desviación estándar mes a mes en el precio por metro cuadrado en el rango de fechas: 0.13\n"
     ]
    }
   ],
   "source": [
    "import pandas as pd\n",
    "import statsmodels.api as sm\n",
    "from datetime import datetime\n",
    "from sklearn.metrics import mean_absolute_error\n",
    "\n",
    "train_start = '2008-01'\n",
    "current_end = '2023-05'\n",
    "current_objetivo = '2023-06'\n",
    "mae_list = []\n",
    "std_dev_list = []\n",
    "\n",
    "while current_end >= '2022-05':\n",
    "    train = extended_serie_temporal[train_start:current_end]\n",
    "    test = extended_serie_temporal[current_objetivo]\n",
    "    exog_test = pd.concat([extended_venta[current_objetivo], extended_renta[current_objetivo]], axis=1).values\n",
    "    exog_values = pd.concat([extended_venta[train_start:current_end], extended_renta[train_start:current_end]], axis=1)\n",
    "    \n",
    "    model = sm.tsa.ARIMA(train, order=(1, 1, 1), exog=exog_values)\n",
    "    model_fit = model.fit()\n",
    "    forecast = model_fit.forecast(steps=len(test), exog=exog_test)\n",
    "    \n",
    "    fecha = datetime.strptime(current_objetivo, '%Y-%m')\n",
    "    nombre_mes = fecha.strftime('%B')\n",
    "    anio = fecha.year\n",
    "    cadena_final = f'{nombre_mes} de {anio}'\n",
    "    \n",
    "    y_true = test.values[-1].round(2)\n",
    "    forecast_june = forecast.iloc[0].round(2)\n",
    "    mae = mean_absolute_error([y_true], [forecast_june]).round(2)\n",
    "    diff_precios_m2 = train.diff()\n",
    "    desviacion_estandar_fila_a_fila = diff_precios_m2.std().round(2)\n",
    "    \n",
    "    mae_list.append(mae)\n",
    "    std_dev_list.append(desviacion_estandar_fila_a_fila)\n",
    "    \n",
    "    print(f\"Valor real de {cadena_final}: {y_true}\")\n",
    "    print(f\"Valor predicho para {cadena_final}: {forecast_june}\")\n",
    "    print(f\"Error Absoluto Medio (MAE) para {cadena_final}: {mae}\")\n",
    "    print(\"Desviación estándar de mes a mes en el precio por metro cuadrado en el rango de fechas:\", desviacion_estandar_fila_a_fila)\n",
    "    print(\"\\n\")\n",
    "    \n",
    "    current_end = (datetime.strptime(current_end, '%Y-%m') - pd.DateOffset(months=1)).strftime('%Y-%m')\n",
    "    current_objetivo = (datetime.strptime(current_objetivo, '%Y-%m') - pd.DateOffset(months=1)).strftime('%Y-%m')\n",
    "\n",
    "\n",
    "mae_mean = (sum(mae_list) / len(mae_list)).round(2)\n",
    "std_dev_mean = (sum(std_dev_list) / len(std_dev_list)).round(2)\n",
    "print(f\"Media de los MAEs: {mae_mean}\")\n",
    "print(f\"Media de la desviación estándar mes a mes en el precio por metro cuadrado en el rango de fechas: {std_dev_mean}\")\n"
   ]
  },
  {
   "cell_type": "markdown",
   "metadata": {},
   "source": [
    "- En este caso, el modelo es 2 centimos más bajo que la desviación estándar, lo que sigue siendo un resultado bastante aceptable."
   ]
  }
 ],
 "metadata": {
  "kernelspec": {
   "display_name": "Python 3",
   "language": "python",
   "name": "python3"
  },
  "language_info": {
   "codemirror_mode": {
    "name": "ipython",
    "version": 3
   },
   "file_extension": ".py",
   "mimetype": "text/x-python",
   "name": "python",
   "nbconvert_exporter": "python",
   "pygments_lexer": "ipython3",
   "version": "3.11.3"
  },
  "orig_nbformat": 4
 },
 "nbformat": 4,
 "nbformat_minor": 2
}
