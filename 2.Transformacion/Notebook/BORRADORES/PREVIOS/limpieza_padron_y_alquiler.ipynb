{
 "cells": [
  {
   "cell_type": "markdown",
   "metadata": {},
   "source": [
    "Importamos las librerías que vamos a usar"
   ]
  },
  {
   "cell_type": "code",
   "execution_count": 34,
   "metadata": {},
   "outputs": [],
   "source": [
    "import pandas as pd\n",
    "import glob\n",
    "import re\n",
    "\n",
    "from datetime import datetime\n",
    "\n",
    "import numpy as np"
   ]
  },
  {
   "cell_type": "markdown",
   "metadata": {},
   "source": [
    "### Limpieza tablas padrón Madrid : formato 'long'"
   ]
  },
  {
   "cell_type": "markdown",
   "metadata": {},
   "source": [
    "Nos hemos propuesto obtener todos los .csv de la carpeta, escritos con una estructura bastante exhaustiva. Nuestra tarea será agruparlos por distrito y sumar la cantidad total de nacionales y extranjeros empadronados por mes (cada .csv contiene un mes)\n",
    "\n",
    "Vamos a almacenar todos esos dataframes y a iterar sobre ellos, buscando la fecha en el nombre de archivo, ya que todos tienen una estructura tipo 'Rango_Edades_Seccion_*YYYYMM*.csv, para crear una variable con la fecha.\n",
    "\n",
    "Luego, vamos a sumar las columnas de españoles y extranjeros para ver cuanta gente vive en cada barrio en cada momento.\n",
    "Hemos tenido que usar un 'contains' y que, a veces, estaba escrito como españoles y otras como espanoles.\n",
    "\n",
    "Finalmente nos quedamos con el distrito, los nacionales y los extranjeros y añadimos una columna total, agrupando por distrito y añadiendo el distrito 'Madrid' que contenga la suma de todos. Concatenamos esa fila a cada uno de los archivos por mes que tenemos, y le incorporamos el mes en el que ha ocurrido, formateándolo con datetime para que tenga una estructura de DD/MM/YY.\n",
    "\n",
    "Incorporamos cada uno de estos dataframes a nuestra lista de dataframes y los concatenamos para acabar exportando un archivo .csv del histórico del padrón agrupado por distrito."
   ]
  },
  {
   "cell_type": "code",
   "execution_count": 92,
   "metadata": {},
   "outputs": [],
   "source": [
    "\n",
    "\n",
    "# Obtenemos la lista de .csv y creamos una lista para ir almacenando los dataframes\n",
    "archivos_csv = glob.glob('Rango_Edades_Seccion_*.csv')\n",
    "dataframes = []\n",
    "\n",
    "# Ahora vamos a iterar sobre los archivos\n",
    "for archivo in archivos_csv:\n",
    "    # Obtenemos la fecha del nombre del arhivo, y leemos el .csv\n",
    "    fecha = re.search(r'Rango_Edades_Seccion_(\\d+)', archivo).group(1)\n",
    "    data = pd.read_csv(archivo, encoding='latin-1', delimiter=';')\n",
    "    \n",
    "    # Vamos a obtener los nombres de las columnas (cada una ha sido escrita de diferente manera, respetando o no la 'ñ', y también vamos a no distinguir entre mayusculas y minusculas)\n",
    "    columnas_espanoles_hombres = data.columns[data.columns.str.contains('espanoles|españoles', case=False)].tolist()\n",
    "    columnas_espanoles_mujeres = data.columns[data.columns.str.contains('espanolas|españolas', case=False)].tolist()\n",
    "    columnas_extranjeros_hombres = data.columns[data.columns.str.contains('extranjeros', case=False)].tolist()\n",
    "    columnas_extranjeros_mujeres = data.columns[data.columns.str.contains('extranjeras', case=False)].tolist()\n",
    "    \n",
    "    # Sumamos los valores para obtener las columnas de 'Nacionales' y 'Extranjeros', y luego nos quedamos solo con las relevantes.\n",
    "    # Manipulamos los nombres de las columnas para que sigan el estándar que hemos definido con nuestros compañeros\n",
    "\n",
    "    data['Nacionales'] = data[columnas_espanoles_hombres].sum(axis=1) + data[columnas_espanoles_mujeres].sum(axis=1)\n",
    "    data['Extranjeros'] = data[columnas_extranjeros_hombres].sum(axis=1) + data[columnas_extranjeros_mujeres].sum(axis=1)\n",
    "    ag_data = data[['Nacionales', 'Extranjeros', 'DESC_DISTRITO']]\n",
    "    final = ag_data.copy()\n",
    "    final['DESC_DISTRITO'] = final['DESC_DISTRITO'].replace({\n",
    "        '.*FUENCARRAL-EL PARDO.*': 'FUENCARRAL',\n",
    "        '.*MONCLOA.*': 'MONCLOA',\n",
    "        '.*PUENTE DE VALLECAS.*': 'PUENTE_VALLECAS',\n",
    "        '.*SAN BLAS.*': 'SAN:BLAS',\n",
    "        '.*VILLA DE VALLECAS.*': 'VILLA_VALLECAS',\n",
    "        '.*CIUDAD LINEAL.*': 'CIUDAD_LINEAL'\n",
    "    }, regex=True)\n",
    "    \n",
    "    # Agrupamos, sumamos por distrito, calculasmos los totales, creamos la fila 'madrid' y la agregamos al dataframe\n",
    "    agrupado = final.groupby('DESC_DISTRITO').sum()\n",
    "    \n",
    "    total_nacionales = agrupado['Nacionales'].sum()\n",
    "    total_extranjeros = agrupado['Extranjeros'].sum()\n",
    "    \n",
    "    madrid_row = pd.DataFrame([[total_nacionales, total_extranjeros]], columns=['Nacionales', 'Extranjeros'], index=['MADRID'])\n",
    "    agrupado = pd.concat([agrupado, madrid_row])\n",
    "    \n",
    "    # Convertimos las columnas a 'int', y formateamos fecha para que acabe con el formato que buscávamos, añadiéndolo al dataframe\n",
    "    agrupado['nacionales'] = agrupado['Nacionales'].astype(int)\n",
    "    agrupado['extranjeros'] = agrupado['Extranjeros'].astype(int)\n",
    "    agrupado['total'] = agrupado['Nacionales'] + agrupado['Extranjeros']\n",
    "    \n",
    "    fecha_dt = datetime.strptime(fecha, \"%Y%m\")\n",
    "    fecha_formateada = fecha_dt.strftime(\"%d/%m/%y\")\n",
    "    agrupado['mes'] = fecha_formateada\n",
    "\n",
    "    #Renombramos el eje a 'distrito' (ya que al estar agrupado por distrito este se situó en el eje)\n",
    "    agrupado = agrupado.rename_axis('distrito')\n",
    "    agrupado.index = agrupado.index.str.lower()\n",
    "    agrupado = agrupado.reset_index()\n",
    "\n",
    "    # Agregamos\n",
    "    dataframes.append(agrupado)\n",
    "\n",
    "# Concatenamos y exportamos :)\n",
    "resultado = pd.concat(dataframes)\n",
    "\n",
    "resultado.to_csv('PADRON1222_LONG.csv', index=True)"
   ]
  },
  {
   "cell_type": "markdown",
   "metadata": {},
   "source": [
    "Para manipular nuestro archivo, lo primero será unificar los distritos para que todos estén en minúscula y sin espacios que puedan confundir las categorías."
   ]
  },
  {
   "cell_type": "code",
   "execution_count": 93,
   "metadata": {},
   "outputs": [
    {
     "data": {
      "text/plain": [
       "distrito\n",
       "arganzuela              108\n",
       "barajas                 108\n",
       "madrid                  108\n",
       "villa_vallecas          108\n",
       "villaverde              108\n",
       "vicalvaro               108\n",
       "usera                   108\n",
       "tetuan                  108\n",
       "san:blas                108\n",
       "salamanca               108\n",
       "retiro                  108\n",
       "puente_vallecas         108\n",
       "moratalaz               108\n",
       "moncloa                 108\n",
       "latina                  108\n",
       "hortaleza               108\n",
       "fuencarral              108\n",
       "chamberi                108\n",
       "chamartin               108\n",
       "centro                  108\n",
       "carabanchel             108\n",
       "ciudad_lineal           107\n",
       "dto. fict.sec.desap.      4\n",
       "dtosec.inex. en bdc       1\n",
       "ciudad lienal             1\n",
       "Name: count, dtype: int64"
      ]
     },
     "execution_count": 93,
     "metadata": {},
     "output_type": "execute_result"
    }
   ],
   "source": [
    "data= pd.read_csv('PADRON1222_LONG.csv')\n",
    "data['distrito'] = data['distrito'].str.strip().str.lower()\n",
    "data['distrito'].value_counts()\n"
   ]
  },
  {
   "cell_type": "markdown",
   "metadata": {},
   "source": [
    "Revisando el archivo obtenido, vemos que hay unos valores como 'dto. fict.sec.desap.' 'dtosec.inex. en bdc'. \n",
    "\n",
    "Al comprobarlos en los datos originales, comprobamos que no sólo se trata de registros insignificantes de apenas 20 personas, sino que eran erróneos en los archivos obtenidos. Concluimos que fue un error de recogida de datos y decidimos borrarlos.\n",
    "\n",
    "También hay un error en el que se registró ciudad lineal como 'ciudad lienal', y decidimos enmendarlo también junto con la nomenclatura de san:blas, que debería ser san_blas."
   ]
  },
  {
   "cell_type": "code",
   "execution_count": 94,
   "metadata": {},
   "outputs": [],
   "source": [
    "data['distrito'] = data['distrito'].replace({'ciudad lienal':'ciudad_lineal',\n",
    "                                             'san:blas':'san_blas'})\n",
    "data = data.drop(data[(data['distrito'] == 'dto. fict.sec.desap.') | (data['distrito'] == 'dtosec.inex. en bdc')].index)\n",
    "\n",
    "data = data[['distrito', 'nacionales', 'extranjeros', 'total', 'mes']]\n",
    "data.to_csv('padron_12_22_long.csv', index=False, header=True)\n",
    "\n"
   ]
  },
  {
   "cell_type": "markdown",
   "metadata": {},
   "source": [
    "### Limpieza tablas padrón madrid: formato 'wide'"
   ]
  },
  {
   "cell_type": "markdown",
   "metadata": {},
   "source": [
    "Para pasar esta tabla tipo 'long' (muchas filas, pocas columnas) a un formato 'wide' que podría sernos útil a la hora de realizar determinados cálculos, decidimos trabajar con el .csv que ya acabamos de crear. \n",
    "\n",
    "Al importarlo hemos tenido que asegurarnos de nuevo de que nuestra columna 'mes' y nuestras columnas de empadronados estén en el formato adecuado (datetime para 'mes' e int para las demás).\n",
    "\n",
    "Para pasarla a 'wide' hemos hecho un pivot manteniendo el eje en el mes, y basando las columnas en las diferentes etiquetas de 'distrito', renombrándolas luego (usando la jerarquía resultante de ese pivot) para que el nombre del distrito aparezca primero, seguido de una barra baja '_' y el concepto al que hace referencia la columna.\n",
    "\n",
    "Posteriormente hemos tenido que organizar las columnas alfabéticamente con un reindex, y ordenar el índice por meses y no por años."
   ]
  },
  {
   "cell_type": "code",
   "execution_count": 95,
   "metadata": {},
   "outputs": [],
   "source": [
    "\n",
    "data = pd.read_csv('padron_12_22_long.csv')\n",
    "\n",
    "data['mes'] = pd.to_datetime(data['mes'], format='%d/%m/%y')\n",
    "data[['nacionales', 'extranjeros', 'total']] = data[['nacionales', 'extranjeros', 'total']].astype(int)\n",
    "\n",
    "\n",
    "data_wide = data.pivot(index='mes', columns='distrito', values=['nacionales', 'extranjeros', 'total'])\n",
    "\n",
    "data_wide.columns = [f'{col[1]}_{col[0]}' for col in data_wide.columns]\n",
    "\n",
    "data_wide = data_wide.reindex(sorted(data_wide.columns), axis=1)\n",
    "\n",
    "data_wide = data_wide.sort_index()\n",
    "\n",
    "\n",
    "data_wide.to_csv('padron_12_22_wide.csv')"
   ]
  },
  {
   "cell_type": "markdown",
   "metadata": {},
   "source": [
    "### Limpieza tabla alquiler Idealista (long)"
   ]
  },
  {
   "cell_type": "markdown",
   "metadata": {},
   "source": [
    "Aunque la tabla extraída de idealista ya estaba bastante depurada, aún hay algunos cambios por realizar.\n",
    "\n",
    "El primero es renombrar la columna 'zona' a 'distrito', para respetar la nomenclatura elegida."
   ]
  },
  {
   "cell_type": "code",
   "execution_count": 35,
   "metadata": {},
   "outputs": [],
   "source": [
    "alquiler = pd.read_csv('ALQUILER1223LONG.csv', encoding='latin-1')\n",
    "alquiler.rename(columns={'zona': 'distrito'}, inplace=True)\n"
   ]
  },
  {
   "cell_type": "code",
   "execution_count": 36,
   "metadata": {},
   "outputs": [
    {
     "data": {
      "text/html": [
       "<div>\n",
       "<style scoped>\n",
       "    .dataframe tbody tr th:only-of-type {\n",
       "        vertical-align: middle;\n",
       "    }\n",
       "\n",
       "    .dataframe tbody tr th {\n",
       "        vertical-align: top;\n",
       "    }\n",
       "\n",
       "    .dataframe thead th {\n",
       "        text-align: right;\n",
       "    }\n",
       "</style>\n",
       "<table border=\"1\" class=\"dataframe\">\n",
       "  <thead>\n",
       "    <tr style=\"text-align: right;\">\n",
       "      <th></th>\n",
       "      <th>mes</th>\n",
       "      <th>precio_m2</th>\n",
       "      <th>var_mensual</th>\n",
       "      <th>var_trimest</th>\n",
       "      <th>var_anual</th>\n",
       "      <th>distrito</th>\n",
       "    </tr>\n",
       "  </thead>\n",
       "  <tbody>\n",
       "    <tr>\n",
       "      <th>0</th>\n",
       "      <td>01/06/23</td>\n",
       "      <td>16,8 /m2</td>\n",
       "      <td>1,20 %</td>\n",
       "      <td>3,70 %</td>\n",
       "      <td>10,20 %</td>\n",
       "      <td>GLOBAL</td>\n",
       "    </tr>\n",
       "    <tr>\n",
       "      <th>1</th>\n",
       "      <td>01/05/23</td>\n",
       "      <td>16,6 /m2</td>\n",
       "      <td>1,20 %</td>\n",
       "      <td>2,60 %</td>\n",
       "      <td>11,00 %</td>\n",
       "      <td>GLOBAL</td>\n",
       "    </tr>\n",
       "    <tr>\n",
       "      <th>2</th>\n",
       "      <td>01/04/23</td>\n",
       "      <td>16,4 /m2</td>\n",
       "      <td>1,20 %</td>\n",
       "      <td>2,50 %</td>\n",
       "      <td>10,30 %</td>\n",
       "      <td>GLOBAL</td>\n",
       "    </tr>\n",
       "    <tr>\n",
       "      <th>3</th>\n",
       "      <td>01/03/23</td>\n",
       "      <td>16,2 /m2</td>\n",
       "      <td>0,20 %</td>\n",
       "      <td>2,70 %</td>\n",
       "      <td>10,40 %</td>\n",
       "      <td>GLOBAL</td>\n",
       "    </tr>\n",
       "    <tr>\n",
       "      <th>4</th>\n",
       "      <td>01/02/23</td>\n",
       "      <td>16,2 /m2</td>\n",
       "      <td>1,10 %</td>\n",
       "      <td>2,50 %</td>\n",
       "      <td>11,20 %</td>\n",
       "      <td>GLOBAL</td>\n",
       "    </tr>\n",
       "  </tbody>\n",
       "</table>\n",
       "</div>"
      ],
      "text/plain": [
       "        mes  precio_m2 var_mensual var_trimest var_anual distrito\n",
       "0  01/06/23  16,8 /m2      1,20 %      3,70 %   10,20 %   GLOBAL\n",
       "1  01/05/23  16,6 /m2      1,20 %      2,60 %   11,00 %   GLOBAL\n",
       "2  01/04/23  16,4 /m2      1,20 %      2,50 %   10,30 %   GLOBAL\n",
       "3  01/03/23  16,2 /m2      0,20 %      2,70 %   10,40 %   GLOBAL\n",
       "4  01/02/23  16,2 /m2      1,10 %      2,50 %   11,20 %   GLOBAL"
      ]
     },
     "execution_count": 36,
     "metadata": {},
     "output_type": "execute_result"
    }
   ],
   "source": [
    "alquiler.head()"
   ]
  },
  {
   "cell_type": "markdown",
   "metadata": {},
   "source": [
    "Comprobamos los nombres de los distritos y vemos que hay algunos que hay que reemplazar para respetar la nomenclatura acordada. Por ejemplo, 'global' pasará a llamarse 'madrid', o 'villa de vallecas', 'villa_vallecas'."
   ]
  },
  {
   "cell_type": "code",
   "execution_count": 37,
   "metadata": {},
   "outputs": [
    {
     "data": {
      "text/plain": [
       "distrito\n",
       "global               136\n",
       "arganzuela           136\n",
       "villa de vallecas    136\n",
       "vicalvaro            136\n",
       "usera                136\n",
       "tetuan               136\n",
       "san blas             136\n",
       "salamanca            136\n",
       "retiro               136\n",
       "puente vallecas      136\n",
       "moratalaz            136\n",
       "moncloa              136\n",
       "latina               136\n",
       "hortaleza            136\n",
       "fuencarral           136\n",
       "ciudad lineal        136\n",
       "chamberi             136\n",
       "chamartin            136\n",
       "centro               136\n",
       "carabanchel          136\n",
       "barajas              136\n",
       "villaverde           136\n",
       "Name: count, dtype: int64"
      ]
     },
     "execution_count": 37,
     "metadata": {},
     "output_type": "execute_result"
    }
   ],
   "source": [
    "alquiler['distrito'] = alquiler['distrito'].str.lower()\n",
    "alquiler.distrito.value_counts()"
   ]
  },
  {
   "cell_type": "code",
   "execution_count": 99,
   "metadata": {},
   "outputs": [],
   "source": [
    "#Reemplazamos los nombres\n",
    "alquiler['distrito'] = alquiler['distrito'].replace({'global': 'madrid', \n",
    "                                                         'villa de vallecas':'villa_vallecas',\n",
    "                                                         'ciudad lineal':'ciudad_lineal',\n",
    "                                                         'puente vallecas':'puente_vallecas',\n",
    "                                                         'san blas':'san_blas'})"
   ]
  },
  {
   "cell_type": "markdown",
   "metadata": {},
   "source": [
    "Por último, hemos de cambiar las columnas con el formato \"1,25 %\" para que sean floats que contengan solo el número en cuestión. Para ello primero creamos una lista con los columnas en las que están los valores a cambiar y aplicamos un bucle for para realizar esta transformación."
   ]
  },
  {
   "cell_type": "code",
   "execution_count": 102,
   "metadata": {},
   "outputs": [],
   "source": [
    "columnas_cambiar = ['precio_m2','var_mensual','var_trimest', 'var_anual']\n",
    "for col in columnas_cambiar:\n",
    "    alquiler[col] = alquiler[col].str.replace(',', '.').str.extract(r'(\\d+\\.\\d+|\\d+)')\n",
    "    alquiler[col] = alquiler[col].astype(float)\n",
    "\n",
    "alquiler.to_csv('alquiler_12_23_long.csv', index=False)\n",
    "\n",
    "\n"
   ]
  },
  {
   "cell_type": "markdown",
   "metadata": {},
   "source": [
    "### Limpieza tabla alquiler Idealista (wide)"
   ]
  },
  {
   "cell_type": "markdown",
   "metadata": {},
   "source": [
    "En cuanto a la tabla Wide, los cambios realizados han sido muy parecidos a los de la tabla 'long':\n",
    "\n",
    "-Cambio de valores numéricos por float.\n",
    "-Cambio de nombres de columnas a minúscula, cambio de nombre 'global' por 'madrid'\n"
   ]
  },
  {
   "cell_type": "code",
   "execution_count": 30,
   "metadata": {},
   "outputs": [],
   "source": [
    "alquiler_w = pd.read_csv('ALQUILER1223WIDE.csv', encoding='latin-1')"
   ]
  },
  {
   "cell_type": "code",
   "execution_count": 31,
   "metadata": {},
   "outputs": [
    {
     "data": {
      "text/html": [
       "<div>\n",
       "<style scoped>\n",
       "    .dataframe tbody tr th:only-of-type {\n",
       "        vertical-align: middle;\n",
       "    }\n",
       "\n",
       "    .dataframe tbody tr th {\n",
       "        vertical-align: top;\n",
       "    }\n",
       "\n",
       "    .dataframe thead th {\n",
       "        text-align: right;\n",
       "    }\n",
       "</style>\n",
       "<table border=\"1\" class=\"dataframe\">\n",
       "  <thead>\n",
       "    <tr style=\"text-align: right;\">\n",
       "      <th></th>\n",
       "      <th>Mes</th>\n",
       "      <th>GLOBAL_precio_m2</th>\n",
       "      <th>GLOBAL_var_mensual</th>\n",
       "      <th>GLOBAL_var_trimest</th>\n",
       "      <th>GLOBAL_var_anual</th>\n",
       "      <th>ARGANZUELA_precio_m2</th>\n",
       "      <th>ARGANZUELA_var_mensual</th>\n",
       "      <th>ARGANZUELA_var_trimest</th>\n",
       "      <th>ARGANZUELA_var_anual</th>\n",
       "      <th>BARAJAS_precio_m2</th>\n",
       "      <th>...</th>\n",
       "      <th>VICALVARO_var_trimest</th>\n",
       "      <th>VICALVARO_var_anual</th>\n",
       "      <th>VILLA_VALLECAS_precio_m2</th>\n",
       "      <th>VILLA_VALLECAS_var_mensual</th>\n",
       "      <th>VILLA_VALLECAS_var_trimest</th>\n",
       "      <th>VILLA_VALLECAS_var_anual</th>\n",
       "      <th>VILLAVERDE_precio_m2</th>\n",
       "      <th>VILLAVERDE_var_mensual</th>\n",
       "      <th>VILLAVERDE_var_trimest</th>\n",
       "      <th>VILLAVERDE_var_anual</th>\n",
       "    </tr>\n",
       "  </thead>\n",
       "  <tbody>\n",
       "    <tr>\n",
       "      <th>0</th>\n",
       "      <td>01/06/23</td>\n",
       "      <td>16,8 /m2</td>\n",
       "      <td>1,20 %</td>\n",
       "      <td>3,70 %</td>\n",
       "      <td>10,20 %</td>\n",
       "      <td>16,4 /m2</td>\n",
       "      <td>0,50 %</td>\n",
       "      <td>0,80 %</td>\n",
       "      <td>8,80 %</td>\n",
       "      <td>13,2 /m2</td>\n",
       "      <td>...</td>\n",
       "      <td>1,80 %</td>\n",
       "      <td>4,00 %</td>\n",
       "      <td>12,5 /m2</td>\n",
       "      <td>-1,30 %</td>\n",
       "      <td>2,20 %</td>\n",
       "      <td>7,00 %</td>\n",
       "      <td>12,3 /m2</td>\n",
       "      <td>0,30 %</td>\n",
       "      <td>4,00 %</td>\n",
       "      <td>9,80 %</td>\n",
       "    </tr>\n",
       "    <tr>\n",
       "      <th>1</th>\n",
       "      <td>01/05/23</td>\n",
       "      <td>16,6 /m2</td>\n",
       "      <td>1,20 %</td>\n",
       "      <td>2,60 %</td>\n",
       "      <td>11,00 %</td>\n",
       "      <td>16,4 /m2</td>\n",
       "      <td>0,70 %</td>\n",
       "      <td>1,50 %</td>\n",
       "      <td>8,70 %</td>\n",
       "      <td>13,0 /m2</td>\n",
       "      <td>...</td>\n",
       "      <td>1,10 %</td>\n",
       "      <td>5,80 %</td>\n",
       "      <td>12,6 /m2</td>\n",
       "      <td>-0,90 %</td>\n",
       "      <td>7,00 %</td>\n",
       "      <td>9,40 %</td>\n",
       "      <td>12,3 /m2</td>\n",
       "      <td>2,60 %</td>\n",
       "      <td>3,60 %</td>\n",
       "      <td>10,80 %</td>\n",
       "    </tr>\n",
       "    <tr>\n",
       "      <th>2</th>\n",
       "      <td>01/04/23</td>\n",
       "      <td>16,4 /m2</td>\n",
       "      <td>1,20 %</td>\n",
       "      <td>2,50 %</td>\n",
       "      <td>10,30 %</td>\n",
       "      <td>16,3 /m2</td>\n",
       "      <td>-0,30 %</td>\n",
       "      <td>0,30 %</td>\n",
       "      <td>7,70 %</td>\n",
       "      <td>12,6 /m2</td>\n",
       "      <td>...</td>\n",
       "      <td>0,00 %</td>\n",
       "      <td>6,90 %</td>\n",
       "      <td>12,8 /m2</td>\n",
       "      <td>4,50 %</td>\n",
       "      <td>7,40 %</td>\n",
       "      <td>12,60 %</td>\n",
       "      <td>12,0 /m2</td>\n",
       "      <td>1,00 %</td>\n",
       "      <td>2,10 %</td>\n",
       "      <td>9,40 %</td>\n",
       "    </tr>\n",
       "    <tr>\n",
       "      <th>3</th>\n",
       "      <td>01/03/23</td>\n",
       "      <td>16,2 /m2</td>\n",
       "      <td>0,20 %</td>\n",
       "      <td>2,70 %</td>\n",
       "      <td>10,40 %</td>\n",
       "      <td>16,3 /m2</td>\n",
       "      <td>1,10 %</td>\n",
       "      <td>1,60 %</td>\n",
       "      <td>8,70 %</td>\n",
       "      <td>12,7 /m2</td>\n",
       "      <td>...</td>\n",
       "      <td>0,10 %</td>\n",
       "      <td>6,70 %</td>\n",
       "      <td>12,2 /m2</td>\n",
       "      <td>3,40 %</td>\n",
       "      <td>2,80 %</td>\n",
       "      <td>9,60 %</td>\n",
       "      <td>11,9 /m2</td>\n",
       "      <td>-0,10 %</td>\n",
       "      <td>0,60 %</td>\n",
       "      <td>10,20 %</td>\n",
       "    </tr>\n",
       "    <tr>\n",
       "      <th>4</th>\n",
       "      <td>01/02/23</td>\n",
       "      <td>16,2 /m2</td>\n",
       "      <td>1,10 %</td>\n",
       "      <td>2,50 %</td>\n",
       "      <td>11,20 %</td>\n",
       "      <td>16,1 /m2</td>\n",
       "      <td>-0,40 %</td>\n",
       "      <td>0,80 %</td>\n",
       "      <td>7,50 %</td>\n",
       "      <td>12,5 /m2</td>\n",
       "      <td>...</td>\n",
       "      <td>-0,50 %</td>\n",
       "      <td>7,90 %</td>\n",
       "      <td>11,8 /m2</td>\n",
       "      <td>-0,60 %</td>\n",
       "      <td>0,30 %</td>\n",
       "      <td>5,10 %</td>\n",
       "      <td>11,9 /m2</td>\n",
       "      <td>1,10 %</td>\n",
       "      <td>0,90 %</td>\n",
       "      <td>10,40 %</td>\n",
       "    </tr>\n",
       "  </tbody>\n",
       "</table>\n",
       "<p>5 rows × 89 columns</p>\n",
       "</div>"
      ],
      "text/plain": [
       "        Mes GLOBAL_precio_m2 GLOBAL_var_mensual GLOBAL_var_trimest   \n",
       "0  01/06/23        16,8 /m2             1,20 %             3,70 %  \\\n",
       "1  01/05/23        16,6 /m2             1,20 %             2,60 %   \n",
       "2  01/04/23        16,4 /m2             1,20 %             2,50 %   \n",
       "3  01/03/23        16,2 /m2             0,20 %             2,70 %   \n",
       "4  01/02/23        16,2 /m2             1,10 %             2,50 %   \n",
       "\n",
       "  GLOBAL_var_anual ARGANZUELA_precio_m2 ARGANZUELA_var_mensual   \n",
       "0          10,20 %            16,4 /m2                 0,50 %  \\\n",
       "1          11,00 %            16,4 /m2                 0,70 %   \n",
       "2          10,30 %            16,3 /m2                -0,30 %   \n",
       "3          10,40 %            16,3 /m2                 1,10 %   \n",
       "4          11,20 %            16,1 /m2                -0,40 %   \n",
       "\n",
       "  ARGANZUELA_var_trimest ARGANZUELA_var_anual BARAJAS_precio_m2  ...   \n",
       "0                 0,80 %               8,80 %         13,2 /m2  ...  \\\n",
       "1                 1,50 %               8,70 %         13,0 /m2  ...   \n",
       "2                 0,30 %               7,70 %         12,6 /m2  ...   \n",
       "3                 1,60 %               8,70 %         12,7 /m2  ...   \n",
       "4                 0,80 %               7,50 %         12,5 /m2  ...   \n",
       "\n",
       "  VICALVARO_var_trimest VICALVARO_var_anual VILLA_VALLECAS_precio_m2   \n",
       "0                1,80 %              4,00 %                12,5 /m2  \\\n",
       "1                1,10 %              5,80 %                12,6 /m2   \n",
       "2                0,00 %              6,90 %                12,8 /m2   \n",
       "3                0,10 %              6,70 %                12,2 /m2   \n",
       "4               -0,50 %              7,90 %                11,8 /m2   \n",
       "\n",
       "  VILLA_VALLECAS_var_mensual VILLA_VALLECAS_var_trimest   \n",
       "0                    -1,30 %                     2,20 %  \\\n",
       "1                    -0,90 %                     7,00 %   \n",
       "2                     4,50 %                     7,40 %   \n",
       "3                     3,40 %                     2,80 %   \n",
       "4                    -0,60 %                     0,30 %   \n",
       "\n",
       "  VILLA_VALLECAS_var_anual VILLAVERDE_precio_m2 VILLAVERDE_var_mensual   \n",
       "0                   7,00 %            12,3 /m2                 0,30 %  \\\n",
       "1                   9,40 %            12,3 /m2                 2,60 %   \n",
       "2                  12,60 %            12,0 /m2                 1,00 %   \n",
       "3                   9,60 %            11,9 /m2                -0,10 %   \n",
       "4                   5,10 %            11,9 /m2                 1,10 %   \n",
       "\n",
       "  VILLAVERDE_var_trimest VILLAVERDE_var_anual  \n",
       "0                 4,00 %               9,80 %  \n",
       "1                 3,60 %              10,80 %  \n",
       "2                 2,10 %               9,40 %  \n",
       "3                 0,60 %              10,20 %  \n",
       "4                 0,90 %              10,40 %  \n",
       "\n",
       "[5 rows x 89 columns]"
      ]
     },
     "execution_count": 31,
     "metadata": {},
     "output_type": "execute_result"
    }
   ],
   "source": [
    "alquiler_w.head()"
   ]
  },
  {
   "cell_type": "code",
   "execution_count": 32,
   "metadata": {},
   "outputs": [],
   "source": [
    "lista_nombres = alquiler_w.columns.tolist()\n",
    "nuevos_nombres = [nombre.lower().replace('global', 'madrid') for nombre in lista_nombres]\n",
    "alquiler_w.columns = nuevos_nombres\n"
   ]
  },
  {
   "cell_type": "code",
   "execution_count": 33,
   "metadata": {},
   "outputs": [],
   "source": [
    "columnas_cambiar = [col for col in nuevos_nombres if col != 'mes']\n",
    "for col in columnas_cambiar:\n",
    "    alquiler_w[col] = alquiler_w[col].str.replace(',', '.').str.extract(r'(\\d+\\.\\d+|\\d+)')\n",
    "    alquiler_w[col] = alquiler_w[col].astype(float)\n",
    "\n",
    "alquiler_w.to_csv('alquiler_12_23_wide.csv', index=False)\n"
   ]
  }
 ],
 "metadata": {
  "kernelspec": {
   "display_name": "Python 3",
   "language": "python",
   "name": "python3"
  },
  "language_info": {
   "codemirror_mode": {
    "name": "ipython",
    "version": 3
   },
   "file_extension": ".py",
   "mimetype": "text/x-python",
   "name": "python",
   "nbconvert_exporter": "python",
   "pygments_lexer": "ipython3",
   "version": "3.11.3"
  },
  "orig_nbformat": 4
 },
 "nbformat": 4,
 "nbformat_minor": 2
}
